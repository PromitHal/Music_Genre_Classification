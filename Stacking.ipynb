{
 "cells": [
  {
   "cell_type": "code",
   "execution_count": 1,
   "id": "e210d165",
   "metadata": {},
   "outputs": [
    {
     "name": "stdout",
     "output_type": "stream",
     "text": [
      "Data Loaded, Shape : 10000 ,343\n"
     ]
    }
   ],
   "source": [
    "import warnings\n",
    "warnings.filterwarnings('ignore')\n",
    "import pandas as pd\n",
    "import tensorflow as tf\n",
    "from tensorflow.keras.layers import Dense\n",
    "from sklearn.model_selection import train_test_split\n",
    "import keras\n",
    "from tensorflow.keras.layers import Dropout\n",
    "from sklearn.preprocessing import StandardScaler\n",
    "from tensorflow.keras import Sequential\n",
    "from keras.layers import Input, Dense, Dropout\n",
    "from tensorflow.keras.callbacks import EarlyStopping\n",
    "import numpy as np\n",
    "from tensorflow.keras.callbacks import Callback\n",
    "from keras.models import Model\n",
    "from Data import DataLoader\n",
    "from DataLoader import Data\n",
    "import xgboost as xgb\n",
    "from sklearn.datasets import load_iris\n",
    "from sklearn.model_selection import train_test_split\n",
    "from sklearn.metrics import accuracy_score\n",
    "import pickle\n",
    "from sklearn.feature_selection import mutual_info_classif\n",
    "df=Data.load_data('music.csv')\n",
    "\n",
    "trainx,testx,trainy,testy=Data.prepare_data(df,label_dict={\n",
    "    'final_blues':0,\n",
    "    'final_classical':1,\n",
    "    'final_country':2,\n",
    "    'final_disco':3,\n",
    "    'final_hiphop':4,\n",
    "    'final_jazz':5,\n",
    "    'final_metal':6,\n",
    "    'final_pop':7,\n",
    "    'final_reggae':8,\n",
    "    'final_rock':9\n",
    "})    "
   ]
  },
  {
   "cell_type": "code",
   "execution_count": 8,
   "id": "176dcaaf",
   "metadata": {},
   "outputs": [
    {
     "name": "stdout",
     "output_type": "stream",
     "text": [
      "Model: \"model_1\"\n",
      "_________________________________________________________________\n",
      " Layer (type)                Output Shape              Param #   \n",
      "=================================================================\n",
      " input_4 (InputLayer)        [(None, 341)]             0         \n",
      "                                                                 \n",
      " dense_11 (Dense)            (None, 512)               175104    \n",
      "                                                                 \n",
      " dense_12 (Dense)            (None, 1024)              525312    \n",
      "                                                                 \n",
      " dense_13 (Dense)            (None, 2048)              2099200   \n",
      "                                                                 \n",
      " dropout_2 (Dropout)         (None, 2048)              0         \n",
      "                                                                 \n",
      " dense_14 (Dense)            (None, 512)               1049088   \n",
      "                                                                 \n",
      " dropout_3 (Dropout)         (None, 512)               0         \n",
      "                                                                 \n",
      " dense_15 (Dense)            (None, 10)                5130      \n",
      "                                                                 \n",
      "=================================================================\n",
      "Total params: 3,853,834\n",
      "Trainable params: 3,853,834\n",
      "Non-trainable params: 0\n",
      "_________________________________________________________________\n",
      "None\n"
     ]
    }
   ],
   "source": [
    "\n",
    "class Model:\n",
    "    def __init__(self,input_shape,num_classes,dropout_p):\n",
    "        self.input_shape=input_shape\n",
    "        self.num_classes=num_classes\n",
    "        self.drop=dropout_p\n",
    "\n",
    "    def build_model(self):\n",
    "       inputs=tf.keras.Input(shape=self.input_shape)\n",
    "       layer1=tf.keras.layers.Dense(512,activation='relu')(inputs)\n",
    "       layer2=tf.keras.layers.Dense(1024,activation='relu')(layer1)\n",
    "       layer3=tf.keras.layers.Dense(2048,activation='relu')(layer2)\n",
    "       layer4=tf.keras.layers.Dropout(rate=self.drop)(layer3)\n",
    "       layer5=tf.keras.layers.Dense(512,activation='relu')(layer4)\n",
    "       layer6=tf.keras.layers.Dropout(rate=self.drop)(layer5)\n",
    "       layer5=tf.keras.layers.Dense(self.num_classes,activation='softmax')(layer6)\n",
    "       model=tf.keras.Model(inputs=inputs,outputs=layer5)\n",
    "\n",
    "       return model\n",
    "    \n",
    "model=Model(input_shape=(341),num_classes=10,dropout_p=.5)\n",
    "model=model.build_model()\n",
    "print(model.summary())\n",
    "params={\n",
    "    'batch_size':64,\n",
    "    'epochs':40,\n",
    "    'validation_split':0.2\n",
    "}\n",
    "def train_model(model,trainx,trainy,params):\n",
    "    \n",
    "    earlyStopping = EarlyStopping(monitor='val_loss', patience=10, verbose=0, mode='min')\n",
    "    mcp_save = ModelCheckpoint('.stacking_mdl_wts.hdf5', save_best_only=True, monitor='val_loss', mode='min')\n",
    "    reduce_lr_loss = ReduceLROnPlateau(monitor='val_loss', factor=0.1, patience=7, verbose=1, epsilon=1e-4, mode='min')    \n",
    "    model.compile(optimizer='Adam',loss='sparse_categorical_crossentropy',metrics='acc')\n",
    "    model.fit(trainx,trainy,batch_size=params['batch_size'],validation_split=params['validation_split'],epochs=params['epochs'],callbacks=[earlyStopping, mcp_save, reduce_lr_loss])\n",
    "    \n",
    "epochs = [20,25,30]\n",
    "learning_rate = [1e-2, 1e-3, 1e-4, 2e-5, 5e-5]\n",
    "weight_decay = [1e-4, 1e-4, 1e-5]\n",
    "dropout_probs = [0.2,0.3,0.4]"
   ]
  },
  {
   "cell_type": "code",
   "execution_count": 24,
   "id": "ac7778c8",
   "metadata": {},
   "outputs": [
    {
     "name": "stderr",
     "output_type": "stream",
     "text": [
      "\r\n",
      "  0%|                                                                                           | 0/20 [00:00<?, ?it/s]"
     ]
    },
    {
     "name": "stdout",
     "output_type": "stream",
     "text": [
      "63/63 [==============================] - 1s 7ms/step - loss: 0.5840 - accuracy: 0.9045\n"
     ]
    },
    {
     "name": "stderr",
     "output_type": "stream",
     "text": [
      "\r\n",
      "  5%|████                                                                            | 1/20 [08:47<2:46:56, 527.17s/it]"
     ]
    },
    {
     "name": "stdout",
     "output_type": "stream",
     "text": [
      "63/63 [==============================] - 1s 8ms/step - loss: 2.1061 - accuracy: 0.1530\n"
     ]
    },
    {
     "name": "stderr",
     "output_type": "stream",
     "text": [
      "\r\n",
      " 10%|████████                                                                        | 2/20 [18:37<2:49:17, 564.33s/it]"
     ]
    },
    {
     "name": "stdout",
     "output_type": "stream",
     "text": [
      "63/63 [==============================] - 1s 8ms/step - loss: 0.2667 - accuracy: 0.9355\n"
     ]
    },
    {
     "name": "stderr",
     "output_type": "stream",
     "text": [
      "\r\n",
      " 15%|████████████                                                                    | 3/20 [27:32<2:36:04, 550.84s/it]"
     ]
    },
    {
     "name": "stdout",
     "output_type": "stream",
     "text": [
      "63/63 [==============================] - 1s 9ms/step - loss: 2.0938 - accuracy: 0.1940\n"
     ]
    },
    {
     "name": "stderr",
     "output_type": "stream",
     "text": [
      "\r\n",
      " 20%|████████████████                                                                | 4/20 [38:36<2:38:46, 595.40s/it]"
     ]
    },
    {
     "name": "stdout",
     "output_type": "stream",
     "text": [
      "63/63 [==============================] - 1s 12ms/step - loss: 0.2898 - accuracy: 0.9230\n"
     ]
    },
    {
     "name": "stderr",
     "output_type": "stream",
     "text": [
      "\r\n",
      " 25%|████████████████████                                                            | 5/20 [47:20<2:22:29, 570.00s/it]"
     ]
    },
    {
     "name": "stdout",
     "output_type": "stream",
     "text": [
      "63/63 [==============================] - 2s 21ms/step - loss: 0.2638 - accuracy: 0.9240\n"
     ]
    },
    {
     "name": "stderr",
     "output_type": "stream",
     "text": [
      "\r\n",
      " 30%|██████████████████████▊                                                     | 6/20 [5:59:42<26:14:36, 6748.33s/it]"
     ]
    },
    {
     "name": "stdout",
     "output_type": "stream",
     "text": [
      "63/63 [==============================] - 1s 13ms/step - loss: 2.3035 - accuracy: 0.1060\n"
     ]
    },
    {
     "name": "stderr",
     "output_type": "stream",
     "text": [
      "\r\n",
      " 35%|██████████████████████████▌                                                 | 7/20 [6:08:22<17:00:59, 4712.30s/it]"
     ]
    },
    {
     "name": "stdout",
     "output_type": "stream",
     "text": [
      "63/63 [==============================] - 1s 10ms/step - loss: 2.1057 - accuracy: 0.1885\n"
     ]
    },
    {
     "name": "stderr",
     "output_type": "stream",
     "text": [
      "\r\n",
      " 40%|██████████████████████████████▍                                             | 8/20 [6:16:22<11:12:56, 3364.74s/it]"
     ]
    },
    {
     "name": "stdout",
     "output_type": "stream",
     "text": [
      "63/63 [==============================] - 1s 15ms/step - loss: 0.2549 - accuracy: 0.9470\n"
     ]
    },
    {
     "name": "stderr",
     "output_type": "stream",
     "text": [
      "\r\n",
      " 45%|██████████████████████████████████▋                                          | 9/20 [6:28:47<7:46:42, 2545.69s/it]"
     ]
    },
    {
     "name": "stdout",
     "output_type": "stream",
     "text": [
      "63/63 [==============================] - 1s 10ms/step - loss: 2.0657 - accuracy: 0.2180\n"
     ]
    },
    {
     "name": "stderr",
     "output_type": "stream",
     "text": [
      "\r\n",
      " 50%|██████████████████████████████████████                                      | 10/20 [6:38:55<5:24:35, 1947.51s/it]"
     ]
    },
    {
     "name": "stdout",
     "output_type": "stream",
     "text": [
      "63/63 [==============================] - 1s 9ms/step - loss: 0.3674 - accuracy: 0.8785\n"
     ]
    },
    {
     "name": "stderr",
     "output_type": "stream",
     "text": [
      "\r\n",
      " 55%|█████████████████████████████████████████▊                                  | 11/20 [6:47:05<3:45:14, 1501.67s/it]"
     ]
    },
    {
     "name": "stdout",
     "output_type": "stream",
     "text": [
      "63/63 [==============================] - 1s 10ms/step - loss: 0.2733 - accuracy: 0.9300\n"
     ]
    },
    {
     "name": "stderr",
     "output_type": "stream",
     "text": [
      "\r\n",
      " 60%|█████████████████████████████████████████████▌                              | 12/20 [6:54:24<2:37:05, 1178.13s/it]"
     ]
    },
    {
     "name": "stdout",
     "output_type": "stream",
     "text": [
      "63/63 [==============================] - 1s 9ms/step - loss: 0.3045 - accuracy: 0.9220\n"
     ]
    },
    {
     "name": "stderr",
     "output_type": "stream",
     "text": [
      "\r\n",
      " 65%|██████████████████████████████████████████████████                           | 13/20 [7:03:30<1:55:07, 986.73s/it]"
     ]
    },
    {
     "name": "stdout",
     "output_type": "stream",
     "text": [
      "63/63 [==============================] - 1s 9ms/step - loss: 0.3973 - accuracy: 0.9200\n"
     ]
    },
    {
     "name": "stderr",
     "output_type": "stream",
     "text": [
      "\r\n",
      " 70%|█████████████████████████████████████████████████████▉                       | 14/20 [7:14:33<1:28:53, 888.84s/it]"
     ]
    },
    {
     "name": "stdout",
     "output_type": "stream",
     "text": [
      "63/63 [==============================] - 1s 11ms/step - loss: 0.2584 - accuracy: 0.9400\n"
     ]
    },
    {
     "name": "stderr",
     "output_type": "stream",
     "text": [
      "\r\n",
      " 75%|█████████████████████████████████████████████████████████▊                   | 15/20 [7:25:47<1:08:41, 824.24s/it]"
     ]
    },
    {
     "name": "stdout",
     "output_type": "stream",
     "text": [
      "63/63 [==============================] - 1s 8ms/step - loss: 0.2699 - accuracy: 0.9400\n"
     ]
    },
    {
     "name": "stderr",
     "output_type": "stream",
     "text": [
      "\r\n",
      " 80%|███████████████████████████████████████████████████████████████▏               | 16/20 [7:34:25<48:48, 732.11s/it]"
     ]
    },
    {
     "name": "stdout",
     "output_type": "stream",
     "text": [
      "63/63 [==============================] - 1s 8ms/step - loss: 0.3557 - accuracy: 0.8820\n"
     ]
    },
    {
     "name": "stderr",
     "output_type": "stream",
     "text": [
      "\r\n",
      " 85%|███████████████████████████████████████████████████████████████████▏           | 17/20 [7:40:46<31:19, 626.34s/it]"
     ]
    },
    {
     "name": "stdout",
     "output_type": "stream",
     "text": [
      "63/63 [==============================] - 1s 9ms/step - loss: 0.3882 - accuracy: 0.9185\n"
     ]
    },
    {
     "name": "stderr",
     "output_type": "stream",
     "text": [
      "\r\n",
      " 90%|███████████████████████████████████████████████████████████████████████        | 18/20 [7:49:17<19:43, 591.70s/it]"
     ]
    },
    {
     "name": "stdout",
     "output_type": "stream",
     "text": [
      "63/63 [==============================] - 1s 7ms/step - loss: 2.2753 - accuracy: 0.1315\n"
     ]
    },
    {
     "name": "stderr",
     "output_type": "stream",
     "text": [
      "\r\n",
      " 95%|███████████████████████████████████████████████████████████████████████████    | 19/20 [7:59:59<10:07, 607.05s/it]"
     ]
    },
    {
     "name": "stdout",
     "output_type": "stream",
     "text": [
      "63/63 [==============================] - 1s 7ms/step - loss: 1.6038 - accuracy: 0.4190\n"
     ]
    },
    {
     "name": "stderr",
     "output_type": "stream",
     "text": [
      "100%|██████████████████████████████████████████████████████████████████████████████| 20/20 [8:08:36<00:00, 1465.83s/it]\n"
     ]
    }
   ],
   "source": [
    "class tabular_config:\n",
    "    NUM_MODELS = 20\n",
    "import random\n",
    "parameters = [ {\n",
    "    \"epochs\": random.choice(epochs),\n",
    "    \"learning_rate\": random.choice(learning_rate),\n",
    "    \"weight_decay\" : random.choice(weight_decay) ,\n",
    "    \"dropout_prob\" : random.choice(dropout_probs) \n",
    "} for count in range(tabular_config.NUM_MODELS)]\n",
    "\n",
    "parameters = [ {\n",
    "    \"epochs\": random.choice(epochs),\n",
    "    \"learning_rate\": random.choice(learning_rate),\n",
    "    \"weight_decay\" : random.choice(weight_decay) ,\n",
    "    \"dropout_prob\" : random.choice(dropout_probs) \n",
    "} for count in range(tabular_config.NUM_MODELS)]\n",
    "from tqdm import tqdm\n",
    "## creating a dataframe for parameters\n",
    "music_params = pd.DataFrame(parameters)\n",
    "import os\n",
    "import gc\n",
    "gc.collect()\n",
    "\n",
    "model_paths = []\n",
    "test_scores = []\n",
    "X_train=trainx\n",
    "y_train=trainy\n",
    "X_test=testx\n",
    "y_test=testy\n",
    "## Training models with different parameters\n",
    "for params in tqdm(parameters):\n",
    "    model_save_path, test_score = music_training((X_train, y_train), \n",
    "                                                 (X_test, y_test),\n",
    "                                                 params[\"epochs\"], \n",
    "                                                 params[\"learning_rate\"],\n",
    "                                                 params[\"weight_decay\"],\n",
    "                                                 params[\"dropout_prob\"],\n",
    "                                                 save_dir = \"music/\")\n",
    "    \n",
    "    model_paths.append(model_save_path)\n",
    "    test_scores.append(test_score)\n",
    "\n",
    "## saving scores and model paths to dataframe\n",
    "music_params[\"paths\"] = model_paths\n",
    "music_params[\"scores\"] = test_scores\n",
    "\n",
    "\n",
    "## soring scores in descending order\n",
    "music_params.sort_values(by = \"scores\", ascending= False, inplace = True)\n",
    "music_params.reset_index(drop = True, inplace = True)\n",
    "\n",
    "## saving params with respective scores and model paths\n",
    "music_params.to_csv(\"music_params.csv\", index = False)"
   ]
  },
  {
   "cell_type": "markdown",
   "id": "2dd7a5e0",
   "metadata": {},
   "source": [
    "0%|                                                                                           | 0/20 [00:00<?, ?it/s]\n",
    "63/63 [==============================] - 1s 7ms/step - loss: 0.5840 - accuracy: 0.9045\n",
    "\n",
    "  5%|████                                                                            | 1/20 [08:47<2:46:56, 527.17s/it]\n",
    "63/63 [==============================] - 1s 8ms/step - loss: 2.1061 - accuracy: 0.1530\n",
    "\n",
    " 10%|████████                                                                        | 2/20 [18:37<2:49:17, 564.33s/it]\n",
    "63/63 [==============================] - 1s 8ms/step - loss: 0.2667 - accuracy: 0.9355\n",
    "\n",
    " 15%|████████████                                                                    | 3/20 [27:32<2:36:04, 550.84s/it]\n",
    "63/63 [==============================] - 1s 9ms/step - loss: 2.0938 - accuracy: 0.1940\n",
    "\n",
    " 20%|████████████████                                                                | 4/20 [38:36<2:38:46, 595.40s/it]\n",
    "63/63 [==============================] - 1s 12ms/step - loss: 0.2898 - accuracy: 0.9230\n",
    "\n",
    " 25%|████████████████████                                                            | 5/20 [47:20<2:22:29, 570.00s/it]\n",
    "63/63 [==============================] - 2s 21ms/step - loss: 0.2638 - accuracy: 0.9240\n",
    "\n",
    " 30%|██████████████████████▊                                                     | 6/20 [5:59:42<26:14:36, 6748.33s/it]\n",
    "63/63 [==============================] - 1s 13ms/step - loss: 2.3035 - accuracy: 0.1060\n",
    "\n",
    " 35%|██████████████████████████▌                                                 | 7/20 [6:08:22<17:00:59, 4712.30s/it]\n",
    "63/63 [==============================] - 1s 10ms/step - loss: 2.1057 - accuracy: 0.1885\n",
    "\n",
    " 40%|██████████████████████████████▍                                             | 8/20 [6:16:22<11:12:56, 3364.74s/it]\n",
    "63/63 [==============================] - 1s 15ms/step - loss: 0.2549 - accuracy: 0.9120\n",
    "\n",
    " 45%|██████████████████████████████████▋                                          | 9/20 [6:28:47<7:46:42, 2545.69s/it]\n",
    "63/63 [==============================] - 1s 10ms/step - loss: 2.0657 - accuracy: 0.2180\n",
    "\n",
    " 50%|██████████████████████████████████████                                      | 10/20 [6:38:55<5:24:35, 1947.51s/it]\n",
    "63/63 [==============================] - 1s 9ms/step - loss: 0.3674 - accuracy: 0.8785\n",
    "\n",
    " 55%|█████████████████████████████████████████▊                                  | 11/20 [6:47:05<3:45:14, 1501.67s/it]\n",
    "63/63 [==============================] - 1s 10ms/step - loss: 0.2733 - accuracy: 0.9300\n",
    "\n",
    " 60%|█████████████████████████████████████████████▌                              | 12/20 [6:54:24<2:37:05, 1178.13s/it]\n",
    "63/63 [==============================] - 1s 9ms/step - loss: 0.3045 - accuracy: 0.9220\n",
    "\n",
    " 65%|██████████████████████████████████████████████████                           | 13/20 [7:03:30<1:55:07, 986.73s/it]\n",
    "63/63 [==============================] - 1s 9ms/step - loss: 0.3973 - accuracy: 0.9200\n",
    "\n",
    " 70%|█████████████████████████████████████████████████████▉                       | 14/20 [7:14:33<1:28:53, 888.84s/it]\n",
    "63/63 [==============================] - 1s 11ms/step - loss: 0.2584 - accuracy: 0.9400\n",
    "\n",
    " 75%|█████████████████████████████████████████████████████████▊                   | 15/20 [7:25:47<1:08:41, 824.24s/it]\n",
    "63/63 [==============================] - 1s 8ms/step - loss: 0.2699 - accuracy: 0.9400\n",
    "\n",
    " 80%|███████████████████████████████████████████████████████████████▏               | 16/20 [7:34:25<48:48, 732.11s/it]\n",
    "63/63 [==============================] - 1s 8ms/step - loss: 0.3557 - accuracy: 0.8820\n",
    "\n",
    " 85%|███████████████████████████████████████████████████████████████████▏           | 17/20 [7:40:46<31:19, 626.34s/it]\n",
    "63/63 [==============================] - 1s 9ms/step - loss: 0.3882 - accuracy: 0.9185\n",
    "\n",
    " 90%|███████████████████████████████████████████████████████████████████████        | 18/20 [7:49:17<19:43, 591.70s/it]\n",
    "63/63 [==============================] - 1s 7ms/step - loss: 2.2753 - accuracy: 0.1315\n",
    "\n",
    " 95%|███████████████████████████████████████████████████████████████████████████    | 19/20 [7:59:59<10:07, 607.05s/it]\n",
    "63/63 [==============================] - 1s 7ms/step - loss: 1.6038 - accuracy: 0.4190\n",
    "100%|██████████████████████████████████████████████████████████████████████████████| 20/20 [8:08:36<00:00, 1465.83s/it]"
   ]
  },
  {
   "cell_type": "code",
   "execution_count": 33,
   "id": "58fe052c",
   "metadata": {},
   "outputs": [],
   "source": [
    "\n",
    "def uniform_soup(model_paths, test_ds, evaluate_fun, disable_tqdm = False):\n",
    "    \"\"\"\n",
    "    Returns Uniform Soup model and accuracy on test set \n",
    "    Args:\n",
    "    model_paths : List, List of saved model paths\n",
    "    test_ds : Test Dataset in tfds format.\n",
    "    model_fun : Fun, Model Instantiating Function\n",
    "    evaluate_fun : Fun, Model Test Set Evaluation Function\n",
    "    disable_tqdm : Bool, Wheter to disable TQDM Progress bar or not\n",
    "    \"\"\"\n",
    "    \n",
    "    soups = []\n",
    "    ## Instantiating model\n",
    "    \n",
    "    tf.keras.backend.clear_session()\n",
    "    M=Model(input_shape=(341),num_classes=10,dropout_p=0.5)\n",
    "    model = M.build_model()\n",
    "    \n",
    "    \n",
    "    ## Iterating Over all models \n",
    "    for path in tqdm(model_paths, disable=disable_tqdm):\n",
    "        \n",
    "        ## loading model wieghts \n",
    "        model.load_weights(path)\n",
    "        \n",
    "        ## Adding model weights in soup list\n",
    "        soup = [np.array(weights) for weights in model.weights]\n",
    "        soups.append(soup)\n",
    "        \n",
    "    ## Averaing all weights \n",
    "    mean_soup = np.array(soups).mean(axis = 0)\n",
    "    \n",
    "    ## Replacing model's weight with Unifrom Soup Weights\n",
    "    for w1, w2 in zip(model.weights, mean_soup ):\n",
    "        tf.keras.backend.set_value(w1, w2)\n",
    "        \n",
    "    ## evaluating uniform soup performance   \n",
    "    accuracy =  evaluate_fun(model, test_ds)\n",
    "    return model, accuracy\n",
    "\n",
    "def greedy_soup(model_paths, test_ds, evaluate_fun):\n",
    "    \"\"\"\n",
    "    Returns Greedy Soup model and accuracy on test set \n",
    "    Args:\n",
    "    model_paths : List, List of saved model paths\n",
    "    test_ds : Test Dataset in tfds format.\n",
    "    model_fun : Fun, Model Instantiating Function\n",
    "    evaluate_fun : Fun, Model Test Set Evaluation Function\n",
    "    \"\"\"\n",
    "    ## Creating intial soup with best performing model \n",
    "    soups =  [model_paths[0]]\n",
    "    \n",
    "    ## Instantiating model\n",
    "    \n",
    "    tf.keras.backend.clear_session()\n",
    "    M=Model(input_shape=(341),num_classes=10,dropout_p=0.5)\n",
    "    model = M.build_model()\n",
    " \n",
    "    ## Loading best performing model's weights \n",
    "    model.load_weights(model_paths[0])\n",
    "    \n",
    "    ## Scoirng best performing model on test set \n",
    "    score_final = evaluate_fun(model,test_ds)\n",
    "    \n",
    "    ## Iterating over the remaining models \n",
    "    for path in tqdm(model_paths[1:]):\n",
    "        \n",
    "        ## Creating a temp soup \n",
    "        temp_soup =  soups.copy()\n",
    "        temp_soup.append(path)\n",
    "        \n",
    "        ## Getting score from temp soup\n",
    "        model, score = uniform_soup(temp_soup,test_ds, evaluate_fun, disable_tqdm= True)\n",
    "        \n",
    "        ## Conditioning current model for appneding in main soup\n",
    "        ## if score from the temp soup is more than best perofming model\n",
    "        ## the temp soup path is appended to main soup \n",
    "        if score > score_final:\n",
    "            score_final = score\n",
    "            soups.append(path)\n",
    "    model,_=uniform_soup(soups,test_ds,evaluate_fun,disable_tqdm= True)\n",
    "    return model, score_final\n",
    "\n",
    "def music_training(train_ds, \n",
    "                   test_ds,\n",
    "                   epochs, \n",
    "                   learning_rate, \n",
    "                   weight_decay,\n",
    "                   dropout_prob,\n",
    "                   save_dir = \"music/\"):\n",
    "    \"\"\"\n",
    "    Returns Saved trained model's path and test evaluation score\n",
    "    Args:\n",
    "    train_ds : Train Dataset in tfds format.\n",
    "    test_ds : Test Dataset in tfds format.\n",
    "    epochs : Int, Trainig Epochs count.\n",
    "    learning_rate : Float, Training Learning Rate\n",
    "    weight_decay : Float, AdamW optimizer Weight Decay\n",
    "    save_dir : Str, Model Save Directory Prefix\n",
    "    \"\"\"\n",
    "    ## Creating directory for saving models\n",
    "    \n",
    "    if not os.path.isdir(save_dir):\n",
    "        os.makedirs(save_dir)\n",
    "    ## AdamW Optimizer Setup    \n",
    "    adamw_optimizer = tf.optimizers.Adam(\n",
    "                                     learning_rate= learning_rate)\n",
    "    \n",
    "    ## Instantiating model\n",
    "    tf.keras.backend.clear_session()\n",
    "    M=Model(input_shape=(341),num_classes=10,dropout_p=dropout_prob)\n",
    "    model = M.build_model()\n",
    "    ## Compiling Model\n",
    "    model.compile(\n",
    "            \n",
    "            optimizer = adamw_optimizer,\n",
    "            loss = \"sparse_categorical_crossentropy\",\n",
    "            metrics = [\"accuracy\"]\n",
    "        )\n",
    "    \n",
    "    ## Training Model\n",
    "    model.fit(\n",
    "        train_ds[0],\n",
    "        train_ds[1],\n",
    "        epochs = epochs,\n",
    "        verbose = 0\n",
    "    )\n",
    "    \n",
    "    ## Evaluating Model\n",
    "    test_loss , test_score  = model.evaluate(test_ds[0], test_ds[1], verbose = 1 )\n",
    "    \n",
    "    ## Saving Trained Model\n",
    "    model_save_path =save_dir +  save_dir + \"music-\"  +  str(epochs) + \"_\" + str(learning_rate) +  \"_\" + str(weight_decay) + \".h5\"\n",
    "    if not os.path.isdir(save_dir):\n",
    "        model.save_weights(model_save_path)\n",
    "    else:\n",
    "        ## if model with same parameter already exists\n",
    "        model_save_path = save_dir + \"music-\" +  str(epochs) + \"_\" + str(learning_rate) +  \"_\" + str(weight_decay) + str(random.choice(np.arange(0,1000))) +  \".h5\"\n",
    "        model.save_weights(model_save_path)\n",
    "        \n",
    "    ## Clearing GPU memory\n",
    "    del model \n",
    "    gc.collect()\n",
    "    return model_save_path, test_score\n",
    "\n",
    "def music_eval(model,test_ds):\n",
    "    \"\"\"\n",
    "    Returns Accuracy of model on test set \n",
    "    Args:\n",
    "    model : Trained tensorflow model\n",
    "    test_ds : Test dataset for evaluation\n",
    "    \"\"\"\n",
    "    preds = model.predict(test_ds[0])\n",
    "    preds=np.argmax(preds,axis=1)\n",
    "    acc=accuracy_score(testy,preds)\n",
    "    return acc"
   ]
  },
  {
   "cell_type": "code",
   "execution_count": 35,
   "id": "f80d63f6",
   "metadata": {},
   "outputs": [
    {
     "name": "stdout",
     "output_type": "stream",
     "text": [
      "63/63 [==============================] - 1s 7ms/step\n"
     ]
    },
    {
     "name": "stderr",
     "output_type": "stream",
     "text": [
      "\r\n",
      "  0%|                                                                                           | 0/19 [00:00<?, ?it/s]"
     ]
    },
    {
     "name": "stdout",
     "output_type": "stream",
     "text": [
      "63/63 [==============================] - 1s 7ms/step\n"
     ]
    },
    {
     "name": "stderr",
     "output_type": "stream",
     "text": [
      "\r\n",
      "  5%|████▎                                                                              | 1/19 [00:00<00:14,  1.28it/s]"
     ]
    },
    {
     "name": "stdout",
     "output_type": "stream",
     "text": [
      "63/63 [==============================] - 0s 7ms/step\n"
     ]
    },
    {
     "name": "stderr",
     "output_type": "stream",
     "text": [
      "\r\n",
      " 11%|████████▋                                                                          | 2/19 [00:01<00:13,  1.29it/s]"
     ]
    },
    {
     "name": "stdout",
     "output_type": "stream",
     "text": [
      "63/63 [==============================] - 1s 7ms/step\n"
     ]
    },
    {
     "name": "stderr",
     "output_type": "stream",
     "text": [
      "\r\n",
      " 16%|█████████████                                                                      | 3/19 [00:02<00:12,  1.29it/s]"
     ]
    },
    {
     "name": "stdout",
     "output_type": "stream",
     "text": [
      "63/63 [==============================] - 0s 7ms/step\n"
     ]
    },
    {
     "name": "stderr",
     "output_type": "stream",
     "text": [
      "\r\n",
      " 21%|█████████████████▍                                                                 | 4/19 [00:03<00:11,  1.29it/s]"
     ]
    },
    {
     "name": "stdout",
     "output_type": "stream",
     "text": [
      "63/63 [==============================] - 1s 7ms/step\n"
     ]
    },
    {
     "name": "stderr",
     "output_type": "stream",
     "text": [
      "\r\n",
      " 26%|█████████████████████▊                                                             | 5/19 [00:03<00:10,  1.30it/s]"
     ]
    },
    {
     "name": "stdout",
     "output_type": "stream",
     "text": [
      "63/63 [==============================] - 1s 7ms/step\n"
     ]
    },
    {
     "name": "stderr",
     "output_type": "stream",
     "text": [
      "\r\n",
      " 32%|██████████████████████████▏                                                        | 6/19 [00:04<00:10,  1.29it/s]"
     ]
    },
    {
     "name": "stdout",
     "output_type": "stream",
     "text": [
      "63/63 [==============================] - 1s 8ms/step\n"
     ]
    },
    {
     "name": "stderr",
     "output_type": "stream",
     "text": [
      "\r\n",
      " 37%|██████████████████████████████▌                                                    | 7/19 [00:05<00:09,  1.25it/s]"
     ]
    },
    {
     "name": "stdout",
     "output_type": "stream",
     "text": [
      "63/63 [==============================] - 1s 7ms/step\n"
     ]
    },
    {
     "name": "stderr",
     "output_type": "stream",
     "text": [
      "\r\n",
      " 42%|██████████████████████████████████▉                                                | 8/19 [00:06<00:08,  1.24it/s]"
     ]
    },
    {
     "name": "stdout",
     "output_type": "stream",
     "text": [
      "63/63 [==============================] - 1s 7ms/step\n"
     ]
    },
    {
     "name": "stderr",
     "output_type": "stream",
     "text": [
      "\r\n",
      " 47%|███████████████████████████████████████▎                                           | 9/19 [00:07<00:08,  1.23it/s]"
     ]
    },
    {
     "name": "stdout",
     "output_type": "stream",
     "text": [
      "63/63 [==============================] - 1s 8ms/step\n"
     ]
    },
    {
     "name": "stderr",
     "output_type": "stream",
     "text": [
      "\r\n",
      " 53%|███████████████████████████████████████████▏                                      | 10/19 [00:08<00:07,  1.19it/s]"
     ]
    },
    {
     "name": "stdout",
     "output_type": "stream",
     "text": [
      "63/63 [==============================] - 1s 8ms/step\n"
     ]
    },
    {
     "name": "stderr",
     "output_type": "stream",
     "text": [
      "\r\n",
      " 58%|███████████████████████████████████████████████▍                                  | 11/19 [00:08<00:06,  1.18it/s]"
     ]
    },
    {
     "name": "stdout",
     "output_type": "stream",
     "text": [
      "63/63 [==============================] - 0s 7ms/step\n"
     ]
    },
    {
     "name": "stderr",
     "output_type": "stream",
     "text": [
      "\r\n",
      " 63%|███████████████████████████████████████████████████▊                              | 12/19 [00:09<00:05,  1.21it/s]"
     ]
    },
    {
     "name": "stdout",
     "output_type": "stream",
     "text": [
      "63/63 [==============================] - 1s 7ms/step\n"
     ]
    },
    {
     "name": "stderr",
     "output_type": "stream",
     "text": [
      "\r\n",
      " 68%|████████████████████████████████████████████████████████                          | 13/19 [00:10<00:04,  1.20it/s]"
     ]
    },
    {
     "name": "stdout",
     "output_type": "stream",
     "text": [
      "63/63 [==============================] - 1s 8ms/step\n"
     ]
    },
    {
     "name": "stderr",
     "output_type": "stream",
     "text": [
      "\r\n",
      " 74%|████████████████████████████████████████████████████████████▍                     | 14/19 [00:11<00:04,  1.18it/s]"
     ]
    },
    {
     "name": "stdout",
     "output_type": "stream",
     "text": [
      "63/63 [==============================] - 1s 7ms/step\n"
     ]
    },
    {
     "name": "stderr",
     "output_type": "stream",
     "text": [
      "\r\n",
      " 79%|████████████████████████████████████████████████████████████████▋                 | 15/19 [00:12<00:03,  1.20it/s]"
     ]
    },
    {
     "name": "stdout",
     "output_type": "stream",
     "text": [
      "63/63 [==============================] - 1s 7ms/step\n"
     ]
    },
    {
     "name": "stderr",
     "output_type": "stream",
     "text": [
      "\r\n",
      " 84%|█████████████████████████████████████████████████████████████████████             | 16/19 [00:13<00:02,  1.22it/s]"
     ]
    },
    {
     "name": "stdout",
     "output_type": "stream",
     "text": [
      "63/63 [==============================] - 1s 7ms/step\n"
     ]
    },
    {
     "name": "stderr",
     "output_type": "stream",
     "text": [
      "\r\n",
      " 89%|█████████████████████████████████████████████████████████████████████████▎        | 17/19 [00:13<00:01,  1.23it/s]"
     ]
    },
    {
     "name": "stdout",
     "output_type": "stream",
     "text": [
      "63/63 [==============================] - 1s 7ms/step\n"
     ]
    },
    {
     "name": "stderr",
     "output_type": "stream",
     "text": [
      "\r\n",
      " 95%|█████████████████████████████████████████████████████████████████████████████▋    | 18/19 [00:14<00:00,  1.24it/s]"
     ]
    },
    {
     "name": "stdout",
     "output_type": "stream",
     "text": [
      "63/63 [==============================] - 1s 8ms/step\n"
     ]
    },
    {
     "name": "stderr",
     "output_type": "stream",
     "text": [
      "100%|██████████████████████████████████████████████████████████████████████████████████| 19/19 [00:15<00:00,  1.23it/s]"
     ]
    },
    {
     "name": "stdout",
     "output_type": "stream",
     "text": [
      "Accuracy of Greedy Soup: 0.947\n"
     ]
    },
    {
     "name": "stderr",
     "output_type": "stream",
     "text": [
      "\n"
     ]
    }
   ],
   "source": [
    "greedy_soup_model, greedy_soup_acc = greedy_soup(\n",
    "    music_params[\"paths\"].values, \n",
    "    (X_test,y_test),\n",
    "    music_eval\n",
    ")\n",
    "print(\"Accuracy of Greedy Soup:\", greedy_soup_acc)"
   ]
  },
  {
   "cell_type": "code",
   "execution_count": 38,
   "id": "24be6506",
   "metadata": {},
   "outputs": [
    {
     "data": {
      "image/png": "[encoded data removed]",
      "text/plain": [
       "<Figure size 1296x360 with 1 Axes>"
      ]
     },
     "metadata": {
      "needs_background": "light"
     },
     "output_type": "display_data"
    }
   ],
   "source": [
    "import matplotlib.pyplot as plt\n",
    "fig, ax = plt.subplots(figsize = (18,5))\n",
    "plt.plot( music_params[\"scores\"].values[::-1], \"bo\", label = \"Individual Models\")\n",
    "plt.plot( len(music_params), greedy_soup_acc,  marker= \"^\", color = \"red\", markersize = 12, label = \"Greedy Soup\")\n",
    "ax.get_xaxis().set_visible(False)\n",
    "plt.ylabel(\"Accuracy\")\n",
    "plt.title(\"Model Soups on music Data\")\n",
    "plt.legend()"
   ]
  },
  {
   "cell_type": "code",
   "execution_count": null,
   "id": "c220e899",
   "metadata": {},
   "outputs": [],
   "source": []
  }
 ],
 "metadata": {
  "kernelspec": {
   "display_name": "Python 3 (ipykernel)",
   "language": "python",
   "name": "python3"
  },
  "language_info": {
   "codemirror_mode": {
    "name": "ipython",
    "version": 3
   },
   "file_extension": ".py",
   "mimetype": "text/x-python",
   "name": "python",
   "nbconvert_exporter": "python",
   "pygments_lexer": "ipython3",
   "version": "3.8.11"
  }
 },
 "nbformat": 4,
 "nbformat_minor": 5
}
